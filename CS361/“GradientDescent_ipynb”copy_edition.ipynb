{
  "nbformat": 4,
  "nbformat_minor": 0,
  "metadata": {
    "kernelspec": {
      "display_name": "Python 3",
      "language": "python",
      "name": "python3"
    },
    "language_info": {
      "codemirror_mode": {
        "name": "ipython",
        "version": 3
      },
      "file_extension": ".py",
      "mimetype": "text/x-python",
      "name": "python",
      "nbconvert_exporter": "python",
      "pygments_lexer": "ipython3",
      "version": "3.7.1-final"
    },
    "colab": {
      "name": "“GradientDescent.ipynb”copy edition",
      "provenance": [],
      "collapsed_sections": []
    }
  },
  "cells": [
    {
      "cell_type": "markdown",
      "metadata": {
        "id": "OUXUbvIcbmSy"
      },
      "source": [
        "# Data Generation"
      ]
    },
    {
      "cell_type": "markdown",
      "source": [
        "Copyright：From UIUC-CS361 Professor：Hongye Liu"
      ],
      "metadata": {
        "id": "D3pzADF7fQkJ"
      }
    },
    {
      "cell_type": "code",
      "metadata": {
        "id": "WPlLJzl9bmS6",
        "colab": {
          "base_uri": "https://localhost:8080/"
        },
        "outputId": "a3da44e3-3fc2-4306-b77c-74447768719c"
      },
      "source": [
        "%matplotlib inline\n",
        "import numpy as np\n",
        "import numpy.linalg as la\n",
        "import matplotlib.pyplot as plt\n",
        "\n",
        "dim_theta = 10 #number of parameters\n",
        "data_num = 1000 # number of data\n",
        "scale = .1 \n",
        "\n",
        "theta_true = np.ones((dim_theta,1))\n",
        "theta_true\n",
        "print('True theta:', theta_true.reshape(-1))\n",
        "\n",
        "A = np.random.uniform(low=-1.0, high=1.0, size=(data_num,dim_theta))\n",
        "y_data = A @ theta_true + np.random.normal(loc=0.0, scale=scale, size=(data_num, 1))\n",
        "\n",
        "A_test = np.random.uniform(low=-1.0, high=1.0, size=(50, dim_theta))\n",
        "y_test = A_test @ theta_true + np.random.normal(loc=0.0, scale=scale, size=(50, 1))"
      ],
      "execution_count": null,
      "outputs": [
        {
          "output_type": "stream",
          "name": "stdout",
          "text": [
            "True theta: [1. 1. 1. 1. 1. 1. 1. 1. 1. 1.]\n"
          ]
        }
      ]
    },
    {
      "cell_type": "markdown",
      "metadata": {
        "id": "ZU_XvbFtbmTT"
      },
      "source": [
        "# Solving for the exact mean squared loss (solving Ax = b)"
      ]
    },
    {
      "cell_type": "code",
      "metadata": {
        "id": "BmhrX7mHbmTW",
        "colab": {
          "base_uri": "https://localhost:8080/"
        },
        "outputId": "941078b1-e6e5-499a-9d37-8d18341088d0"
      },
      "source": [
        "\n",
        "'''\n",
        "Hints:\n",
        "1. See the least squares solution to Ax = b (when it is covered in lecture).\n",
        "\n",
        "2. Use Numpy functions like Numpy's linear algebra functions to solve for x in Ax = b.\n",
        "In fact, the linear algebra module is already imported with ```import numpy.linalg as la```.\n",
        "\n",
        "3. Use the defined variable A in Ax = b. Use y_data as b. Use theta_pred as x.\n",
        "'''\n",
        "# theta_pred = NotImplemented # TODO: Implement the analytical solution\n",
        "theta_pred  = np.linalg.lstsq(A, y_data, rcond=None)[0]\n",
        "theta_pred\n",
        "print('Empirical theta', theta_pred.reshape(-1))"
      ],
      "execution_count": null,
      "outputs": [
        {
          "output_type": "stream",
          "name": "stdout",
          "text": [
            "Empirical theta [1.00250879 1.01429    1.01106749 1.00443479 0.99988414 0.9960512\n",
            " 1.01450626 0.998628   1.01005218 1.00028133]\n"
          ]
        }
      ]
    },
    {
      "cell_type": "markdown",
      "metadata": {
        "id": "xeV_SKF_bmTj"
      },
      "source": [
        "# SGD Variants Noisy Function"
      ]
    },
    {
      "cell_type": "code",
      "metadata": {
        "id": "SvwmLrlAbmTn"
      },
      "source": [
        "batch_size = 1\n",
        "max_iter = 1000 #iterate 1000 times\n",
        "lr = 0.001 # how much we move in each step \n",
        "theta_init = np.random.random((10,1)) * 0.1 "
      ],
      "execution_count": null,
      "outputs": []
    },
    {
      "cell_type": "code",
      "metadata": {
        "id": "1hVSuTZxbmT2"
      },
      "source": [
        "def noisy_val_grad(theta_hat, data_, label_, deg_=2.):\n",
        "    gradient = np.zeros_like(theta_hat) #Return an array of zeros with the same shape and type as a given array.\n",
        "    loss = 0\n",
        "    \n",
        "    for i in range(data_.shape[0]):\n",
        "        x_ = data_[i, :].reshape(-1,1)\n",
        "        y_ = label_[i, 0]\n",
        "        err = np.sum(x_ * theta_hat) - y_\n",
        "        '''\n",
        "        Hints:\n",
        "        1. Find the gradient and loss for each data point x_.\n",
        "        2. For grad, you need err, deg_, and x_.\n",
        "        3. For l, you need err and deg_ only.\n",
        "        4. Checkout the writeup for more hints.\n",
        "        '''\n",
        "        grad = deg_ * np.sign(err) * abs(err)**(deg_ - 1) * x_ # TODO: Implement the analytical gradient\n",
        "        l = abs(err)**deg_ # TODO: Implement the loss function\n",
        "        \n",
        "        loss += l / data_.shape[0]\n",
        "        gradient += grad / data_.shape[0]\n",
        "        \n",
        "    return loss, gradient"
      ],
      "execution_count": null,
      "outputs": []
    },
    {
      "cell_type": "markdown",
      "metadata": {
        "id": "B5abUl0ibmUF"
      },
      "source": [
        "# Running SGD Variants"
      ]
    },
    {
      "cell_type": "code",
      "metadata": {
        "id": "xybXkEd7bmUJ",
        "colab": {
          "base_uri": "https://localhost:8080/",
          "height": 596
        },
        "outputId": "3304dab4-728f-4338-bf0d-431de9618785"
      },
      "source": [
        "#@title Parameters\n",
        "deg_ = 2 #@param {type: \"number\"}\n",
        "# different degree generate different curves, thus degree can be 0.4, 0.7 etc.\n",
        "num_rep = 30 #@param {type: \"integer\"}\n",
        "# if overlap exists, num_rep can be increased to 30, 50, 100.\n",
        "max_iter = 1000 #@param {type: \"integer\"}\n",
        "fig, ax = plt.subplots(figsize=(10,10))\n",
        "best_vals = {}\n",
        "test_exp_interval = 50 #@param {type: \"integer\"}\n",
        "grad_artificial_normal_noise_scale = 0. #@param {type: \"number\"}"
      ],
      "execution_count": null,
      "outputs": [
        {
          "output_type": "display_data",
          "data": {
            "image/png": "[encoded data removed]",
            "text/plain": [
              "<Figure size 720x720 with 1 Axes>"
            ]
          },
          "metadata": {
            "needs_background": "light"
          }
        }
      ]
    },
    {
      "cell_type": "code",
      "metadata": {
        "id": "UM80QBNFbmUV",
        "colab": {
          "base_uri": "https://localhost:8080/",
          "height": 1000
        },
        "outputId": "b5223b76-8675-4cd4-b2bb-b0093215fed0"
      },
      "source": [
        "for method_idx, method in enumerate(['adam', 'sgd', 'adagrad']):\n",
        "    test_loss_mat = []\n",
        "    train_loss_mat = []\n",
        "    \n",
        "    for replicate in range(num_rep):\n",
        "        if replicate % 20 == 0:\n",
        "            print(method, replicate)\n",
        "            \n",
        "        if method == 'adam':\n",
        "            #print('Adam Not implemented.!!!')\n",
        "            beta_1 = 0.9\n",
        "            beta_2 = 0.999\n",
        "            m = 0 # TODO: Initialize parameters\n",
        "            v = 0\n",
        "            epsilon = 10**(-8)\n",
        "\n",
        "        if method == 'adagrad':\n",
        "            #print('Adagrad Not implemented.!!!')\n",
        "            epsilon = 10**(-8) # TODO: Initialize parameters\n",
        "            squared_sum = 0\n",
        "            \n",
        "        theta_hat = theta_init.copy()\n",
        "        test_loss_list = []\n",
        "        train_loss_list = []\n",
        "\n",
        "        for t in range(max_iter):\n",
        "            idx = np.random.choice(data_num, batch_size) # Split data\n",
        "            train_loss, gradient = noisy_val_grad(theta_hat, A[idx,:], y_data[idx,:], deg_=deg_)\n",
        "            artificial_grad_noise = np.random.randn(10, 1) * grad_artificial_normal_noise_scale + np.sign(np.random.random((10, 1)) - 0.5) * 0.\n",
        "            gradient = gradient + artificial_grad_noise\n",
        "            train_loss_list.append(train_loss)\n",
        "            \n",
        "            if t % test_exp_interval == 0:\n",
        "                test_loss, _ = noisy_val_grad(theta_hat, A_test[:,:], y_test[:,:], deg_=deg_)\n",
        "                test_loss_list.append(test_loss)                \n",
        "            \n",
        "            if method == 'adam':\n",
        "                #print('Adam Not implemented.') # TODO: Implement Adam\n",
        "                m = beta_1 * m + (1 - beta_1) * gradient\n",
        "                v = beta_2 * v + (1 - beta_2) * (gradient**2)\n",
        "                m_hat = m / (1 - beta_1**(t+1))\n",
        "                v_hat = v / (1 - beta_2**(t+1))\n",
        "                theta_hat = theta_hat - lr * m_hat / (np.sqrt(v_hat) + epsilon)\n",
        "            \n",
        "            elif method == 'adagrad':\n",
        "                #print('Adagrad Not implemented.')\n",
        "                squared_sum = squared_sum + gradient**2 # TODO: Implement Adagrad\n",
        "                theta_hat = theta_hat - lr * gradient / np.sqrt(squared_sum + epsilon)\n",
        "                \n",
        "            # squared_sum ** 2\n",
        "            elif method == 'sgd':\n",
        "                theta_hat = theta_hat - lr * gradient\n",
        "                \n",
        "        \n",
        "        test_loss_mat.append(test_loss_list)\n",
        "        train_loss_mat.append(train_loss_list)\n",
        "        \n",
        "    print(method, 'done')\n",
        "    x_axis = np.arange(max_iter)[::test_exp_interval]\n",
        "    \n",
        "    #print('test_loss_np is a 2d array with num_rep rows and each column denotes a specific update stage in training')\n",
        "    #print('The elements of test_loss_np are the test loss values computed in each replicate and training stage.')\n",
        "    test_loss_np = np.array(test_loss_mat)\n",
        "    print(\"Theta:\", theta_hat)\n",
        "    \n",
        "    '''\n",
        "    Hints:\n",
        "    1. Use test_loss_np in np.mean() with axis = 0\n",
        "    '''\n",
        "    test_loss_mean = np.mean(test_loss_np, axis=0) # TODO: Calculate the mean test loss\n",
        "    print(test_loss_mean)\n",
        "    '''\n",
        "    Hints:\n",
        "    1. Use test_loss_np in np.std() with axis = 0 \n",
        "    2. Divide by np.sqrt() using num_rep as a parameter\n",
        "    '''\n",
        "    test_loss_se = np.std(test_loss_np, axis = 0) / np.sqrt(num_rep) # TODO: Calculate the standard error for test loss\n",
        "\n",
        "    plt.errorbar(x_axis, test_loss_mean, yerr=2.5*test_loss_se, label= method)\n",
        "    best_vals[method] = min(test_loss_mean)\n",
        "    best_vals = { k: int(v * 1000) / 1000. for k,v in best_vals.items() } # A weird way to round numbers\n",
        "    plt.title(f'Test Loss \\n(objective degree: {deg_},  best values: {best_vals})')\n",
        "    plt.ylabel('Test Loss')\n",
        "    plt.legend()\n",
        "    plt.xlabel('Updates')"
      ],
      "execution_count": null,
      "outputs": [
        {
          "output_type": "stream",
          "name": "stdout",
          "text": [
            "adam 0\n",
            "adam 20\n",
            "adam done\n",
            "Theta: [[0.33055924]\n",
            " [0.31013006]\n",
            " [0.31081029]\n",
            " [0.33939963]\n",
            " [0.32644212]\n",
            " [0.31224556]\n",
            " [0.38773275]\n",
            " [0.30159401]\n",
            " [0.39984265]\n",
            " [0.27545293]]\n",
            "[2.7091631  2.62665702 2.54526179 2.46642159 2.38589596 2.31363648\n",
            " 2.24097836 2.16932361 2.10159765 2.03265203 1.96187478 1.89829834\n",
            " 1.83603084 1.77236468 1.71125401 1.65327643 1.59569516 1.53812357\n",
            " 1.48277136 1.43141943]\n",
            "sgd 0\n",
            "sgd 20\n",
            "sgd done\n",
            "Theta: [[0.52630156]\n",
            " [0.55984962]\n",
            " [0.50099305]\n",
            " [0.50725876]\n",
            " [0.5698562 ]\n",
            " [0.34540421]\n",
            " [0.47753624]\n",
            " [0.40180611]\n",
            " [0.53490133]\n",
            " [0.44227777]]\n",
            "[2.7091631  2.54237289 2.3916607  2.24749406 2.11745221 1.98810791\n",
            " 1.86924393 1.75164189 1.64108454 1.54238042 1.44241968 1.35394155\n",
            " 1.27300727 1.19149026 1.11884826 1.04697149 0.98618239 0.92825014\n",
            " 0.87222697 0.81825898]\n",
            "adagrad 0\n",
            "adagrad 20\n",
            "adagrad done\n",
            "Theta: [[0.06012007]\n",
            " [0.06850065]\n",
            " [0.03902417]\n",
            " [0.07057143]\n",
            " [0.06847579]\n",
            " [0.05983121]\n",
            " [0.08999844]\n",
            " [0.03558415]\n",
            " [0.1001843 ]\n",
            " [0.03971391]]\n",
            "[2.7091631  2.69013633 2.68034603 2.67238897 2.66566803 2.66022896\n",
            " 2.65508341 2.65060145 2.64662269 2.64251772 2.63882238 2.63502857\n",
            " 2.63168687 2.62855907 2.62546953 2.62245465 2.61945068 2.61661502\n",
            " 2.61373768 2.61085064]\n"
          ]
        },
        {
          "output_type": "display_data",
          "data": {
            "image/png": "[encoded data removed]",
            "text/plain": [
              "<Figure size 432x288 with 1 Axes>"
            ]
          },
          "metadata": {
            "needs_background": "light"
          }
        }
      ]
    },
    {
      "cell_type": "code",
      "metadata": {
        "id": "EGmQD7nDbmUg",
        "colab": {
          "base_uri": "https://localhost:8080/",
          "height": 345
        },
        "outputId": "b4631ba2-2785-4bb9-8dfa-89eda445c6ce"
      },
      "source": [
        "best_vals = { k: int(v * 1000) / 1000. for k,v in best_vals.items() } # A weird way to round numbers\n",
        "plt.title(f'Test Loss \\n(objective degree: {deg_},  best values: {best_vals})')\n",
        "plt.ylabel('Test Loss')\n",
        "plt.legend()\n",
        "plt.xlabel('Updates')"
      ],
      "execution_count": null,
      "outputs": [
        {
          "output_type": "stream",
          "name": "stderr",
          "text": [
            "No handles with labels found to put in legend.\n"
          ]
        },
        {
          "output_type": "execute_result",
          "data": {
            "text/plain": [
              "Text(0.5, 0, 'Updates')"
            ]
          },
          "metadata": {},
          "execution_count": 28
        },
        {
          "output_type": "display_data",
          "data": {
            "image/png": "[encoded data removed]",
            "text/plain": [
              "<Figure size 432x288 with 1 Axes>"
            ]
          },
          "metadata": {
            "needs_background": "light"
          }
        }
      ]
    },
    {
      "cell_type": "code",
      "metadata": {
        "id": "HUrU3eX_EGt6"
      },
      "source": [
        ""
      ],
      "execution_count": null,
      "outputs": []
    }
  ]
}